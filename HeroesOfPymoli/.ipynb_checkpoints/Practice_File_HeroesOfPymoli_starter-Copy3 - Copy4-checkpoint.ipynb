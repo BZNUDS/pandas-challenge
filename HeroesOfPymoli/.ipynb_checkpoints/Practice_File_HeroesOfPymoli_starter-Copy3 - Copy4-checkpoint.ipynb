{
 "cells": [
  {
   "cell_type": "markdown",
   "metadata": {},
   "source": [
    "### Note\n",
    "* Instructions have been included for each segment. You do not have to follow them exactly, but they are included to help you think through the steps."
   ]
  },
  {
   "cell_type": "code",
   "execution_count": 1,
   "metadata": {},
   "outputs": [],
   "source": [
    "# Dependencies and Setup\n",
    "import pandas as pd\n",
    "import numpy\n",
    "\n",
    "# File to Load\n",
    "file_to_load = \"Resources/purchase_data.csv\"\n",
    "\n",
    "# Read Purchasing File and store into Pandas data frame\n",
    "purchase_data = pd.read_csv(file_to_load)\n",
    "my_df=pd.DataFrame(purchase_data)\n"
   ]
  },
  {
   "cell_type": "markdown",
   "metadata": {},
   "source": [
    "## Player Count"
   ]
  },
  {
   "cell_type": "markdown",
   "metadata": {},
   "source": [
    "* Display the total number of players\n"
   ]
  },
  {
   "cell_type": "code",
   "execution_count": 2,
   "metadata": {},
   "outputs": [
    {
     "data": {
      "text/html": [
       "<div>\n",
       "<style scoped>\n",
       "    .dataframe tbody tr th:only-of-type {\n",
       "        vertical-align: middle;\n",
       "    }\n",
       "\n",
       "    .dataframe tbody tr th {\n",
       "        vertical-align: top;\n",
       "    }\n",
       "\n",
       "    .dataframe thead th {\n",
       "        text-align: right;\n",
       "    }\n",
       "</style>\n",
       "<table border=\"1\" class=\"dataframe\">\n",
       "  <thead>\n",
       "    <tr style=\"text-align: right;\">\n",
       "      <th></th>\n",
       "      <th>Total Players</th>\n",
       "    </tr>\n",
       "  </thead>\n",
       "  <tbody>\n",
       "    <tr>\n",
       "      <th>0</th>\n",
       "      <td>576</td>\n",
       "    </tr>\n",
       "  </tbody>\n",
       "</table>\n",
       "</div>"
      ],
      "text/plain": [
       "   Total Players\n",
       "0            576"
      ]
     },
     "execution_count": 2,
     "metadata": {},
     "output_type": "execute_result"
    }
   ],
   "source": [
    "# my_df=pd.DataFrame(purchase_data) \n",
    "# Count uniques number of total players\n",
    "counts_unique_players=len(my_df[\"SN\"].value_counts())\n",
    "# Cretae Data Frame for unique number of total players\n",
    "total_unique_players=pd.DataFrame({\"Total Players\": [counts_unique_players]})\n",
    "total_unique_players"
   ]
  },
  {
   "cell_type": "markdown",
   "metadata": {},
   "source": [
    "## Purchasing Analysis (Total)"
   ]
  },
  {
   "cell_type": "markdown",
   "metadata": {},
   "source": [
    "* Run basic calculations to obtain number of unique items, average price, etc.\n",
    "\n",
    "\n",
    "* Create a summary data frame to hold the results\n",
    "\n",
    "\n",
    "* Optional: give the displayed data cleaner formatting\n",
    "\n",
    "\n",
    "* Display the summary data frame\n"
   ]
  },
  {
   "cell_type": "code",
   "execution_count": 3,
   "metadata": {
    "scrolled": true
   },
   "outputs": [
    {
     "data": {
      "text/html": [
       "<div>\n",
       "<style scoped>\n",
       "    .dataframe tbody tr th:only-of-type {\n",
       "        vertical-align: middle;\n",
       "    }\n",
       "\n",
       "    .dataframe tbody tr th {\n",
       "        vertical-align: top;\n",
       "    }\n",
       "\n",
       "    .dataframe thead th {\n",
       "        text-align: right;\n",
       "    }\n",
       "</style>\n",
       "<table border=\"1\" class=\"dataframe\">\n",
       "  <thead>\n",
       "    <tr style=\"text-align: right;\">\n",
       "      <th></th>\n",
       "      <th>Number of Unique Items</th>\n",
       "      <th>Average Price</th>\n",
       "      <th>Number of Purchases</th>\n",
       "      <th>Total Revenue</th>\n",
       "    </tr>\n",
       "  </thead>\n",
       "  <tbody>\n",
       "    <tr>\n",
       "      <th>0</th>\n",
       "      <td>179</td>\n",
       "      <td>$3.05</td>\n",
       "      <td>780</td>\n",
       "      <td>$2,379.77</td>\n",
       "    </tr>\n",
       "  </tbody>\n",
       "</table>\n",
       "</div>"
      ],
      "text/plain": [
       "   Number of Unique Items Average Price  Number of Purchases Total Revenue\n",
       "0                     179         $3.05                  780     $2,379.77"
      ]
     },
     "execution_count": 3,
     "metadata": {},
     "output_type": "execute_result"
    }
   ],
   "source": [
    "# Determne number of Unique Items, Total Purchase Amount and Total Revenue\n",
    "counts_unique_items=len(my_df[\"Item ID\"].value_counts()) \n",
    "average_price=my_df[\"Price\"].mean()\n",
    "total_purchases=my_df[\"SN\"].count()\n",
    "total_revenue=average_price * total_purchases\n",
    "\n",
    "# Create summary table\n",
    "summary_df = pd.DataFrame({\"Number of Unique Items\": counts_unique_items,\n",
    "                          \"Average Price\" : average_price, \n",
    "                           \"Number of Purchases\": total_purchases,\n",
    "                          \"Total Revenue\" : total_revenue},\n",
    "                           index=[0])\n",
    "\n",
    "# Format as the last steps for average price and total revenue\n",
    "summary_df[\"Average Price\"] = summary_df[\"Average Price\"].astype(float).map(\"${:,.2f}\".format)\n",
    "summary_df[\"Total Revenue\"] = summary_df[\"Total Revenue\"].astype(float).map(\"${:,.2f}\".format)\n",
    "summary_df\n",
    "    "
   ]
  },
  {
   "cell_type": "markdown",
   "metadata": {},
   "source": [
    "## Gender Demographics"
   ]
  },
  {
   "cell_type": "markdown",
   "metadata": {},
   "source": [
    "* Percentage and Count of Male Players\n",
    "\n",
    "\n",
    "* Percentage and Count of Female Players\n",
    "\n",
    "\n",
    "* Percentage and Count of Other / Non-Disclosed\n",
    "\n",
    "\n"
   ]
  },
  {
   "cell_type": "code",
   "execution_count": 4,
   "metadata": {},
   "outputs": [
    {
     "data": {
      "text/html": [
       "<div>\n",
       "<style scoped>\n",
       "    .dataframe tbody tr th:only-of-type {\n",
       "        vertical-align: middle;\n",
       "    }\n",
       "\n",
       "    .dataframe tbody tr th {\n",
       "        vertical-align: top;\n",
       "    }\n",
       "\n",
       "    .dataframe thead th {\n",
       "        text-align: right;\n",
       "    }\n",
       "</style>\n",
       "<table border=\"1\" class=\"dataframe\">\n",
       "  <thead>\n",
       "    <tr style=\"text-align: right;\">\n",
       "      <th></th>\n",
       "      <th>Total Count</th>\n",
       "      <th>Percentage of Players</th>\n",
       "    </tr>\n",
       "  </thead>\n",
       "  <tbody>\n",
       "    <tr>\n",
       "      <th>Male</th>\n",
       "      <td>484</td>\n",
       "      <td>84.03%</td>\n",
       "    </tr>\n",
       "    <tr>\n",
       "      <th>Female</th>\n",
       "      <td>81</td>\n",
       "      <td>14.06%</td>\n",
       "    </tr>\n",
       "    <tr>\n",
       "      <th>Other / Non-Disclosed</th>\n",
       "      <td>11</td>\n",
       "      <td>1.91%</td>\n",
       "    </tr>\n",
       "  </tbody>\n",
       "</table>\n",
       "</div>"
      ],
      "text/plain": [
       "                       Total Count Percentage of Players\n",
       "Male                           484                84.03%\n",
       "Female                          81                14.06%\n",
       "Other / Non-Disclosed           11                 1.91%"
      ]
     },
     "execution_count": 4,
     "metadata": {},
     "output_type": "execute_result"
    }
   ],
   "source": [
    "# restarting again based on input from substitute Instructor Bill Parker on 012422 (session 5.2) and my file\n",
    "# \"BZ Experiments with groupby (Audi) and object using plotting_groups.ipynb  012522  v0.3\" \n",
    "\n",
    "# my_df=pd.DataFrame(purchase_data)\n",
    "\n",
    "# Determine the unique count of total players (i.e 576)\n",
    "unique_players=my_df.nunique()[\"SN\"]\n",
    "\n",
    "# Create table grouped by Gender \n",
    "grouped_df = my_df.groupby( [\"Gender\"])\n",
    "\n",
    "# Create table for unique count of gender (by SN)  \n",
    "uniques_by_gender = grouped_df.nunique()[\"SN\"]\n",
    "# Create tabke for percent by gender\n",
    "percent_by_gender = (uniques_by_gender / unique_players)*100\n",
    "\n",
    "# Pull all of the tables together and create summary table data frame\n",
    "genders_summary_df=pd.DataFrame({\"Total Count\":uniques_by_gender, \"Percentage of Players\":percent_by_gender})\n",
    "\n",
    "# Sort\n",
    "genders_summary_df = genders_summary_df.sort_values(\"Total Count\", ascending=False)\n",
    "\n",
    "# Remove index\n",
    "genders_summary_df.index.name = None\n",
    "\n",
    "# Format as the last step\n",
    "genders_summary_df[\"Percentage of Players\"] = genders_summary_df[\"Percentage of Players\"].astype(float).map(\"{:,.2f}%\".format)\n",
    "genders_summary_df"
   ]
  },
  {
   "cell_type": "markdown",
   "metadata": {},
   "source": [
    "\n",
    "## Purchasing Analysis (Gender)"
   ]
  },
  {
   "cell_type": "markdown",
   "metadata": {},
   "source": [
    "* Run basic calculations to obtain purchase count, avg. purchase price, avg. purchase total per person etc. by gender\n",
    "\n",
    "\n",
    "\n",
    "\n",
    "* Create a summary data frame to hold the results\n",
    "\n",
    "\n",
    "* Optional: give the displayed data cleaner formatting\n",
    "\n",
    "\n",
    "* Display the summary data frame"
   ]
  },
  {
   "cell_type": "code",
   "execution_count": 5,
   "metadata": {},
   "outputs": [
    {
     "data": {
      "text/html": [
       "<div>\n",
       "<style scoped>\n",
       "    .dataframe tbody tr th:only-of-type {\n",
       "        vertical-align: middle;\n",
       "    }\n",
       "\n",
       "    .dataframe tbody tr th {\n",
       "        vertical-align: top;\n",
       "    }\n",
       "\n",
       "    .dataframe thead th {\n",
       "        text-align: right;\n",
       "    }\n",
       "</style>\n",
       "<table border=\"1\" class=\"dataframe\">\n",
       "  <thead>\n",
       "    <tr style=\"text-align: right;\">\n",
       "      <th></th>\n",
       "      <th>Purchase Count</th>\n",
       "      <th>Average Purchase Price</th>\n",
       "      <th>Total Purchase Value</th>\n",
       "      <th>Avg Total Purchase per Person</th>\n",
       "    </tr>\n",
       "    <tr>\n",
       "      <th>Gender</th>\n",
       "      <th></th>\n",
       "      <th></th>\n",
       "      <th></th>\n",
       "      <th></th>\n",
       "    </tr>\n",
       "  </thead>\n",
       "  <tbody>\n",
       "    <tr>\n",
       "      <th>Female</th>\n",
       "      <td>113</td>\n",
       "      <td>$3.20</td>\n",
       "      <td>$361.94</td>\n",
       "      <td>$4.47</td>\n",
       "    </tr>\n",
       "    <tr>\n",
       "      <th>Male</th>\n",
       "      <td>652</td>\n",
       "      <td>$3.02</td>\n",
       "      <td>$1,967.64</td>\n",
       "      <td>$4.07</td>\n",
       "    </tr>\n",
       "    <tr>\n",
       "      <th>Other / Non-Disclosed</th>\n",
       "      <td>15</td>\n",
       "      <td>$3.35</td>\n",
       "      <td>$50.19</td>\n",
       "      <td>$4.56</td>\n",
       "    </tr>\n",
       "  </tbody>\n",
       "</table>\n",
       "</div>"
      ],
      "text/plain": [
       "                       Purchase Count Average Purchase Price  \\\n",
       "Gender                                                         \n",
       "Female                            113                  $3.20   \n",
       "Male                              652                  $3.02   \n",
       "Other / Non-Disclosed              15                  $3.35   \n",
       "\n",
       "                      Total Purchase Value Avg Total Purchase per Person  \n",
       "Gender                                                                    \n",
       "Female                             $361.94                         $4.47  \n",
       "Male                             $1,967.64                         $4.07  \n",
       "Other / Non-Disclosed               $50.19                         $4.56  "
      ]
     },
     "execution_count": 5,
     "metadata": {},
     "output_type": "execute_result"
    }
   ],
   "source": [
    "# my_df=pd.DataFrame(purchase_data)\n",
    "grouped_df = my_df.groupby( [\"Gender\"])\n",
    "\n",
    "# Create table for purchase count (by Purchase ID)  \n",
    "purchases_by_gender = grouped_df.count()[\"Purchase ID\"]\n",
    "\n",
    "# Create table for average purchase price (by Price)  \n",
    "price_by_gender = grouped_df.mean()[\"Price\"]\n",
    "\n",
    "# Create table for total purchase value \n",
    "total_by_gender = purchases_by_gender * price_by_gender\n",
    "\n",
    "# Create table for Total Purchase Value by unique players\n",
    "total_by_gender_unique = total_by_gender / uniques_by_gender\n",
    "\n",
    "# Pull all of the tables together and create summary table data frame\n",
    "genders_summary_df=pd.DataFrame({\"Purchase Count\":purchases_by_gender, \"Average Purchase Price\":price_by_gender, \n",
    "                                 \"Total Purchase Value\":total_by_gender, \"Avg Total Purchase per Person\":total_by_gender_unique})\n",
    "\n",
    "# Format as the last step\n",
    "genders_summary_df[\"Average Purchase Price\"] = genders_summary_df[\"Average Purchase Price\"].astype(float).map(\"${:,.2f}\".format)\n",
    "genders_summary_df[\"Total Purchase Value\"] = genders_summary_df[\"Total Purchase Value\"].astype(float).map(\"${:,.2f}\".format)\n",
    "genders_summary_df[\"Avg Total Purchase per Person\"] = genders_summary_df[\"Avg Total Purchase per Person\"].astype(float).map(\"${:,.2f}\".format)\n",
    "genders_summary_df"
   ]
  },
  {
   "cell_type": "markdown",
   "metadata": {},
   "source": [
    "## Age Demographics"
   ]
  },
  {
   "cell_type": "markdown",
   "metadata": {},
   "source": [
    "* Establish bins for ages\n",
    "\n",
    "\n",
    "* Categorize the existing players using the age bins. Hint: use pd.cut()\n",
    "\n",
    "\n",
    "* Calculate the numbers and percentages by age group\n",
    "\n",
    "\n",
    "* Create a summary data frame to hold the results\n",
    "\n",
    "\n",
    "* Optional: round the percentage column to two decimal points\n",
    "\n",
    "\n",
    "* Display Age Demographics Table\n"
   ]
  },
  {
   "cell_type": "code",
   "execution_count": 6,
   "metadata": {},
   "outputs": [
    {
     "name": "stdout",
     "output_type": "stream",
     "text": [
      "print(genders_summary_df)\n",
      "            Total Count Percentage of Players\n",
      "Age Ranges                                   \n",
      "<10                  17                 2.95%\n",
      "10-14                22                 3.82%\n",
      "15-19               107                18.58%\n",
      "20-24               258                44.79%\n",
      "25-29                77                13.37%\n",
      "30-34                52                 9.03%\n",
      "35-39                31                 5.38%\n",
      "40+                  12                 2.08%\n",
      "genders_summary_df\n",
      "\n",
      "Still need to put into DataFrame???\n",
      "genders_summary_df.dtypes\n",
      "Total Count               int64\n",
      "Percentage of Players    object\n",
      "dtype: object\n"
     ]
    }
   ],
   "source": [
    "# Establish bins for the ages and categorize the existing players (use pd.cut)\n",
    "age_purchase_data = purchase_data\n",
    "bins = [0, 9.9, 14.9, 19.9, 24.9, 29.9, 34.9, 39.9,200]\n",
    "group_names = [\"<10\", \"10-14\", \"15-19\", \"20-24\", \"25-29\", \"30-34\", \"35-39\", \"40+\"]\n",
    "age_purchase_data[\"Age Ranges\"] = pd.cut(age_purchase_data[\"Age\"], bins, labels=group_names, include_lowest=True)\n",
    "\n",
    "# Groupby age ranges\n",
    "group_a_r=age_purchase_data.groupby(\"Age Ranges\")\n",
    "gar=group_a_r.nunique()\n",
    "total_counts=gar[\"SN\"]\n",
    "percentage_of_players= ((total_counts/ unique_players)*100)\n",
    "\n",
    "genders_summary_df=pd.DataFrame({\"Total Count\":total_counts, \"Percentage of Players\":percentage_of_players \n",
    "                                })\n",
    "\n",
    "genders_summary_df[\"Percentage of Players\"] = genders_summary_df[\"Percentage of Players\"].astype(float).map(\"{:,.2f}%\".format)\n",
    "print(\"print(genders_summary_df)\")\n",
    "print(genders_summary_df)\n",
    "print(\"genders_summary_df\")\n",
    "genders_summary_df\n",
    "print()\n",
    "print(\"Still need to put into DataFrame???\")\n",
    "                             \n",
    "print(\"genders_summary_df.dtypes\")\n",
    "print(genders_summary_df.dtypes)"
   ]
  },
  {
   "cell_type": "markdown",
   "metadata": {},
   "source": [
    "## Purchasing Analysis (Age)"
   ]
  },
  {
   "cell_type": "markdown",
   "metadata": {},
   "source": [
    "* Bin the purchase_data data frame by age\n",
    "\n",
    "\n",
    "* Run basic calculations to obtain purchase count, avg. purchase price, avg. purchase total per person etc. in the table below\n",
    "\n",
    "\n",
    "* Create a summary data frame to hold the results\n",
    "\n",
    "\n",
    "* Optional: give the displayed data cleaner formatting\n",
    "\n",
    "\n",
    "* Display the summary data frame"
   ]
  },
  {
   "cell_type": "code",
   "execution_count": 7,
   "metadata": {},
   "outputs": [
    {
     "name": "stdout",
     "output_type": "stream",
     "text": [
      "age_purchase_data[\"Age\"]\n",
      "0      20\n",
      "1      40\n",
      "2      24\n",
      "3      24\n",
      "4      23\n",
      "       ..\n",
      "775    21\n",
      "776    21\n",
      "777    20\n",
      "778     7\n",
      "779    24\n",
      "Name: Age, Length: 780, dtype: int64\n",
      "\n",
      "\n",
      "Still need to put into DataFrame???\n"
     ]
    }
   ],
   "source": [
    "# Establish bins for the ages and categorize the existing players (use pd.cut)\n",
    "age_purchase_data = purchase_data\n",
    "bins = [0, 9.9, 14.9, 19.9, 24.9, 29.9, 34.9, 39.9,200]\n",
    "group_names = [\"<10\", \"10-14\", \"15-19\", \"20-24\", \"25-29\", \"30-34\", \"35-39\", \"40+\"]\n",
    "age_purchase_data[\"Age Ranges\"] = pd.cut(age_purchase_data[\"Age\"], bins, labels=group_names, include_lowest=True)\n",
    "\n",
    "# Groupby age ranges\n",
    "group_a_r=age_purchase_data.groupby(\"Age\")\n",
    "gar=group_a_r.nunique()\n",
    "total_counts=gar[\"SN\"]\n",
    "percentage_of_players= ((total_counts/ unique_players)*100)\n",
    "\n",
    "print('age_purchase_data[\"Age\"]')\n",
    "print(age_purchase_data[\"Age\"])\n",
    "print()\n",
    "\n",
    "\n",
    "# my_df=pd.DataFrame(purchase_data)\n",
    "grouped_df = my_df.groupby( [\"Age\"])\n",
    "\n",
    "# Create table for purchase count (by Purchase ID)  \n",
    "purchases_by_gender = grouped_df.count()[\"Purchase ID\"]\n",
    "\n",
    "# Create table for average purchase price (by Price)  \n",
    "price_by_gender = grouped_df.mean()[\"Price\"]\n",
    "\n",
    "# Create table for total purchase value \n",
    "total_by_gender = purchases_by_gender * price_by_gender\n",
    "\n",
    "# Create table for Total Purchase Value by unique players\n",
    "total_by_gender_unique = total_by_gender / uniques_by_gender\n",
    "\n",
    "# Pull all of the tables together and create summary table data frame\n",
    "genders_summary_df=pd.DataFrame({\"Purchase Count\":purchases_by_gender, \"Average Purchase Price\":price_by_gender, \n",
    "                                 \"Total Purchase Value\":total_by_gender, \"Avg Total Purchase per Person\":total_by_gender_unique})\n",
    "\n",
    "print()\n",
    "print(\"Still need to put into DataFrame???\")\n",
    "                             \n",
    "\n",
    "# Format as the last step\n",
    "# genders_summary_df[\"Average Purchase Price\"] = genders_summary_df[\"Average Purchase Price\"].astype(float).map(\"${:,.2f}\".format)\n",
    "# genders_summary_df[\"Total Purchase Value\"] = genders_summary_df[\"Total Purchase Value\"].astype(float).map(\"${:,.2f}\".format)\n",
    "# genders_summary_df[\"Avg Total Purchase per Person\"] = genders_summary_df[\"Avg Total Purchase per Person\"].astype(float).map(\"${:,.2f}\".format)\n",
    "# genders_summary_df\n",
    "\n"
   ]
  },
  {
   "cell_type": "markdown",
   "metadata": {},
   "source": [
    "## Top Spenders"
   ]
  },
  {
   "cell_type": "markdown",
   "metadata": {},
   "source": [
    "* Run basic calculations to obtain the results in the table below\n",
    "\n",
    "\n",
    "* Create a summary data frame to hold the results\n",
    "\n",
    "\n",
    "* Sort the total purchase value column in descending order\n",
    "\n",
    "\n",
    "* Optional: give the displayed data cleaner formatting\n",
    "\n",
    "\n",
    "* Display a preview of the summary data frame\n",
    "\n"
   ]
  },
  {
   "cell_type": "code",
   "execution_count": null,
   "metadata": {},
   "outputs": [],
   "source": []
  },
  {
   "cell_type": "markdown",
   "metadata": {},
   "source": [
    "## Most Popular Items"
   ]
  },
  {
   "cell_type": "markdown",
   "metadata": {},
   "source": [
    "* Retrieve the Item ID, Item Name, and Item Price columns\n",
    "\n",
    "\n",
    "* Group by Item ID and Item Name. Perform calculations to obtain purchase count, average item price, and total purchase value\n",
    "\n",
    "\n",
    "* Create a summary data frame to hold the results\n",
    "\n",
    "\n",
    "* Sort the purchase count column in descending order\n",
    "\n",
    "\n",
    "* Optional: give the displayed data cleaner formatting\n",
    "\n",
    "\n",
    "* Display a preview of the summary data frame\n",
    "\n"
   ]
  },
  {
   "cell_type": "code",
   "execution_count": 8,
   "metadata": {},
   "outputs": [],
   "source": [
    "# # from Kent Smith 012322\n",
    "# #most profitable items\n",
    "# items_totalvalue_df = items_groupedby_df.sort_values([\"total purchase value\"], ascending=False).head(5)\n",
    "# items_totalvalue_df.style.format(precision=0,formatter={\"item price\":\"${:.2f}\",\n",
    "#                                                      \"total purchase value\":\"${:.2f}\"})"
   ]
  },
  {
   "cell_type": "markdown",
   "metadata": {},
   "source": [
    "## Most Profitable Items"
   ]
  },
  {
   "cell_type": "markdown",
   "metadata": {},
   "source": [
    "* Sort the above table by total purchase value in descending order\n",
    "\n",
    "\n",
    "* Optional: give the displayed data cleaner formatting\n",
    "\n",
    "\n",
    "* Display a preview of the data frame\n",
    "\n"
   ]
  },
  {
   "cell_type": "code",
   "execution_count": null,
   "metadata": {
    "scrolled": true
   },
   "outputs": [],
   "source": []
  }
 ],
 "metadata": {
  "anaconda-cloud": {},
  "kernel_info": {
   "name": "python3"
  },
  "kernelspec": {
   "display_name": "Python 3 (ipykernel)",
   "language": "python",
   "name": "python3"
  },
  "language_info": {
   "codemirror_mode": {
    "name": "ipython",
    "version": 3
   },
   "file_extension": ".py",
   "mimetype": "text/x-python",
   "name": "python",
   "nbconvert_exporter": "python",
   "pygments_lexer": "ipython3",
   "version": "3.9.7"
  },
  "latex_envs": {
   "LaTeX_envs_menu_present": true,
   "autoclose": false,
   "autocomplete": true,
   "bibliofile": "biblio.bib",
   "cite_by": "apalike",
   "current_citInitial": 1,
   "eqLabelWithNumbers": true,
   "eqNumInitial": 1,
   "hotkeys": {
    "equation": "Ctrl-E",
    "itemize": "Ctrl-I"
   },
   "labels_anchors": false,
   "latex_user_defs": false,
   "report_style_numbering": false,
   "user_envs_cfg": false
  },
  "nteract": {
   "version": "0.2.0"
  }
 },
 "nbformat": 4,
 "nbformat_minor": 2
}
