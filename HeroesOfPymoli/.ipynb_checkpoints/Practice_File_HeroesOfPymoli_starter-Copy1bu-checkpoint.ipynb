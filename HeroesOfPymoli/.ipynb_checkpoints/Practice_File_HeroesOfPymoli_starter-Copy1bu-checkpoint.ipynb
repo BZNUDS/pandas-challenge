{
 "cells": [
  {
   "cell_type": "markdown",
   "metadata": {},
   "source": [
    "### Note\n",
    "* Instructions have been included for each segment. You do not have to follow them exactly, but they are included to help you think through the steps."
   ]
  },
  {
   "cell_type": "code",
   "execution_count": 1,
   "metadata": {},
   "outputs": [],
   "source": [
    "# Dependencies and Setup\n",
    "import pandas as pd\n",
    "import numpy\n",
    "\n",
    "# File to Load (Remember to Change These)\n",
    "file_to_load = \"Resources/purchase_data.csv\"\n",
    "\n",
    "# Read Purchasing File and store into Pandas data frame\n",
    "purchase_data = pd.read_csv(file_to_load)\n",
    "my_df=pd.DataFrame(purchase_data)\n",
    "# my_df"
   ]
  },
  {
   "cell_type": "code",
   "execution_count": 2,
   "metadata": {},
   "outputs": [
    {
     "name": "stdout",
     "output_type": "stream",
     "text": [
      "Purchase ID      int64\n",
      "SN              object\n",
      "Age              int64\n",
      "Gender          object\n",
      "Item ID          int64\n",
      "Item Name       object\n",
      "Price          float64\n",
      "dtype: object\n",
      "0      $3.53\n",
      "1      $1.56\n",
      "2      $4.88\n",
      "3      $3.27\n",
      "4      $1.44\n",
      "       ...  \n",
      "775    $3.54\n",
      "776    $1.63\n",
      "777    $3.46\n",
      "778    $4.19\n",
      "779    $4.60\n",
      "Name: Price_F, Length: 780, dtype: object\n",
      "              SN Gender  Price  Price Price_F\n",
      "0        Lisim78   Male   3.53   3.53   $3.53\n",
      "1    Lisovynya38   Male   1.56   1.56   $1.56\n",
      "2     Ithergue48   Male   4.88   4.88   $4.88\n",
      "3  Chamassasya86   Male   3.27   3.27   $3.27\n",
      "4      Iskosia90   Male   1.44   1.44   $1.44\n",
      "5        Yalae81   Male   3.61   3.61   $3.61\n",
      "Purchase ID      int64\n",
      "SN              object\n",
      "Age              int64\n",
      "Gender          object\n",
      "Item ID          int64\n",
      "Item Name       object\n",
      "Price          float64\n",
      "Price_F         object\n",
      "dtype: object\n"
     ]
    }
   ],
   "source": [
    "my_df.loc[0:1]\n",
    "my_df.loc[0:3]\n",
    "my_df.loc[0:5,['SN','Gender','Price']]\n",
    "print(my_df.dtypes)\n",
    "# hosted_in_us_df[\"average_donation\"] = hosted_in_us_df[\"average_donation\"].astype(float).map(\n",
    "#     \"${:,.2f}\".format)\n",
    "\n",
    "#my_df[\"Price\"] = my_df[\"Price\"].astype(float).map(\"${:,.2f}\".format)\n",
    "my_df_var = my_df[\"Price\"].astype(float).map(\"${:,.2f}\".format)\n",
    "# my_df_var would be series\n",
    "my_df[\"Price_F\"]=my_df_var\n",
    "print(my_df[\"Price_F\"])\n",
    "# Eli said can only add back in series columns if the same size\n",
    "# Mohammad said last thing want to do at end is format! (I am guessing becasue it is destructive) \n",
    "\n",
    "print(my_df.loc[0:5,['SN','Gender','Price',\"Price\",\"Price_F\"]])\n",
    "print(my_df.dtypes)\n",
    "\n"
   ]
  },
  {
   "cell_type": "code",
   "execution_count": 3,
   "metadata": {},
   "outputs": [
    {
     "data": {
      "text/html": [
       "<div>\n",
       "<style scoped>\n",
       "    .dataframe tbody tr th:only-of-type {\n",
       "        vertical-align: middle;\n",
       "    }\n",
       "\n",
       "    .dataframe tbody tr th {\n",
       "        vertical-align: top;\n",
       "    }\n",
       "\n",
       "    .dataframe thead th {\n",
       "        text-align: right;\n",
       "    }\n",
       "</style>\n",
       "<table border=\"1\" class=\"dataframe\">\n",
       "  <thead>\n",
       "    <tr style=\"text-align: right;\">\n",
       "      <th></th>\n",
       "      <th>Purchase ID</th>\n",
       "      <th>SN</th>\n",
       "      <th>Age</th>\n",
       "      <th>Gender</th>\n",
       "      <th>Item ID</th>\n",
       "      <th>Item Name</th>\n",
       "      <th>Price</th>\n",
       "      <th>Price_F</th>\n",
       "    </tr>\n",
       "  </thead>\n",
       "  <tbody>\n",
       "  </tbody>\n",
       "</table>\n",
       "</div>"
      ],
      "text/plain": [
       "Empty DataFrame\n",
       "Columns: [Purchase ID, SN, Age, Gender, Item ID, Item Name, Price, Price_F]\n",
       "Index: []"
      ]
     },
     "execution_count": 3,
     "metadata": {},
     "output_type": "execute_result"
    }
   ],
   "source": [
    "class_23 = my_df[my_df[\"Price\"].isin([\"$3.53\"])]\n",
    "class_23"
   ]
  },
  {
   "cell_type": "markdown",
   "metadata": {},
   "source": [
    "## Player Count"
   ]
  },
  {
   "cell_type": "markdown",
   "metadata": {},
   "source": [
    "* Display the total number of players\n"
   ]
  },
  {
   "cell_type": "code",
   "execution_count": 4,
   "metadata": {},
   "outputs": [
    {
     "data": {
      "text/html": [
       "<div>\n",
       "<style scoped>\n",
       "    .dataframe tbody tr th:only-of-type {\n",
       "        vertical-align: middle;\n",
       "    }\n",
       "\n",
       "    .dataframe tbody tr th {\n",
       "        vertical-align: top;\n",
       "    }\n",
       "\n",
       "    .dataframe thead th {\n",
       "        text-align: right;\n",
       "    }\n",
       "</style>\n",
       "<table border=\"1\" class=\"dataframe\">\n",
       "  <thead>\n",
       "    <tr style=\"text-align: right;\">\n",
       "      <th></th>\n",
       "      <th>Total Players</th>\n",
       "    </tr>\n",
       "  </thead>\n",
       "  <tbody>\n",
       "    <tr>\n",
       "      <th>0</th>\n",
       "      <td>576</td>\n",
       "    </tr>\n",
       "  </tbody>\n",
       "</table>\n",
       "</div>"
      ],
      "text/plain": [
       "   Total Players\n",
       "0            576"
      ]
     },
     "execution_count": 4,
     "metadata": {},
     "output_type": "execute_result"
    }
   ],
   "source": [
    "counts_unique_players=len(my_df[\"SN\"].value_counts())\n",
    "total_unique_players=pd.DataFrame({\"Total Players\": [counts_unique_players]})\n",
    "total_unique_players"
   ]
  },
  {
   "cell_type": "markdown",
   "metadata": {},
   "source": [
    "## Purchasing Analysis (Total)"
   ]
  },
  {
   "cell_type": "markdown",
   "metadata": {},
   "source": [
    "* Run basic calculations to obtain number of unique items, average price, etc.\n",
    "\n",
    "\n",
    "* Create a summary data frame to hold the results\n",
    "\n",
    "\n",
    "* Optional: give the displayed data cleaner formatting\n",
    "\n",
    "\n",
    "* Display the summary data frame\n"
   ]
  },
  {
   "cell_type": "code",
   "execution_count": 5,
   "metadata": {
    "scrolled": true
   },
   "outputs": [
    {
     "data": {
      "text/html": [
       "<div>\n",
       "<style scoped>\n",
       "    .dataframe tbody tr th:only-of-type {\n",
       "        vertical-align: middle;\n",
       "    }\n",
       "\n",
       "    .dataframe tbody tr th {\n",
       "        vertical-align: top;\n",
       "    }\n",
       "\n",
       "    .dataframe thead th {\n",
       "        text-align: right;\n",
       "    }\n",
       "</style>\n",
       "<table border=\"1\" class=\"dataframe\">\n",
       "  <thead>\n",
       "    <tr style=\"text-align: right;\">\n",
       "      <th></th>\n",
       "      <th>Number of Unique Items</th>\n",
       "      <th>Average Price</th>\n",
       "      <th>Number of Purchases</th>\n",
       "      <th>Total Reveune</th>\n",
       "    </tr>\n",
       "  </thead>\n",
       "  <tbody>\n",
       "    <tr>\n",
       "      <th>0</th>\n",
       "      <td>179</td>\n",
       "      <td>3.050987</td>\n",
       "      <td>780</td>\n",
       "      <td>2379.77</td>\n",
       "    </tr>\n",
       "  </tbody>\n",
       "</table>\n",
       "</div>"
      ],
      "text/plain": [
       "   Number of Unique Items  Average Price  Number of Purchases  Total Reveune\n",
       "0                     179       3.050987                  780        2379.77"
      ]
     },
     "execution_count": 5,
     "metadata": {},
     "output_type": "execute_result"
    }
   ],
   "source": [
    "counts_unique_items=len(my_df[\"Item ID\"].value_counts())\n",
    "#total_unique_items=pd.DataFrame({\"Number of Unique Item\": [counts_unique_items]})\n",
    "#total_unique_items\n",
    "average_price=my_df[\"Price\"].mean()\n",
    "#total_average_price=pd.DataFrame({\"Average Price\": [average_price]})\n",
    "#total_average_price\n",
    "total_purchases=my_df[\"SN\"].count()\n",
    "total_revenue=average_price * total_purchases\n",
    "\n",
    "# hosted_in_us_df[\"average_donation\"] = hosted_in_us_df[\"average_donation\"].astype(float).map(\n",
    "#     \"${:,.2f}\".format)\n",
    "#average_price[\"Price\"]=average_price[\"Price\"].astype(float).map(\"${:,.2f}\".format)\n",
    "# hosted_in_us_df[\"goal\"] = hosted_in_us_df[\"goal\"].astype(float).map(\"${:,.2f}\".format)\n",
    "# hosted_in_us_df[\"pledged\"] = hosted_in_us_df[\"pledged\"].astype(float).map(\"${:,.2f}\".format)\n",
    "\n",
    "\n",
    "summary_df = pd.DataFrame({\"Number of Unique Items\": counts_unique_items,\n",
    "                          \"Average Price\" : average_price, \n",
    "                           \"Number of Purchases\": total_purchases,\n",
    "                          \"Total Reveune\" : total_revenue},\n",
    "                           index=[0])\n",
    "summary_df\n",
    "\n",
    "#type(average_price)\n",
    "#type(total_purchases)\n",
    "#type(total_revenue)\n"
   ]
  },
  {
   "cell_type": "markdown",
   "metadata": {},
   "source": [
    "## Gender Demographics"
   ]
  },
  {
   "cell_type": "markdown",
   "metadata": {},
   "source": [
    "* Percentage and Count of Male Players\n",
    "\n",
    "\n",
    "* Percentage and Count of Female Players\n",
    "\n",
    "\n",
    "* Percentage and Count of Other / Non-Disclosed\n",
    "\n",
    "\n"
   ]
  },
  {
   "cell_type": "code",
   "execution_count": 6,
   "metadata": {},
   "outputs": [
    {
     "name": "stdout",
     "output_type": "stream",
     "text": [
      "11\n",
      "Gender                 SN             Gender               \n",
      "Female                 Adastirin33    Female                   1\n",
      "                       Aerithllora36  Female                   2\n",
      "                       Aethedru70     Female                   1\n",
      "                       Aidain51       Female                   1\n",
      "                       Aiduesu86      Female                   1\n",
      "                                                              ..\n",
      "Other / Non-Disclosed  Lirtim36       Other / Non-Disclosed    1\n",
      "                       Maluncil97     Other / Non-Disclosed    2\n",
      "                       Rairith81      Other / Non-Disclosed    1\n",
      "                       Siarithria38   Other / Non-Disclosed    2\n",
      "                       Sundim98       Other / Non-Disclosed    1\n",
      "Name: Gender, Length: 576, dtype: int64\n"
     ]
    },
    {
     "ename": "NameError",
     "evalue": "name 'other_genders' is not defined",
     "output_type": "error",
     "traceback": [
      "\u001b[1;31m---------------------------------------------------------------------------\u001b[0m",
      "\u001b[1;31mNameError\u001b[0m                                 Traceback (most recent call last)",
      "\u001b[1;32mC:\\Users\\BZNORT~1\\AppData\\Local\\Temp/ipykernel_10964/3262787539.py\u001b[0m in \u001b[0;36m<module>\u001b[1;34m\u001b[0m\n\u001b[0;32m     24\u001b[0m \u001b[0mmale_percent\u001b[0m\u001b[1;33m=\u001b[0m\u001b[1;33m(\u001b[0m\u001b[0mmale_genders\u001b[0m \u001b[1;33m/\u001b[0m \u001b[0munique_players\u001b[0m\u001b[1;33m)\u001b[0m\u001b[1;33m*\u001b[0m\u001b[1;36m100\u001b[0m\u001b[1;33m\u001b[0m\u001b[1;33m\u001b[0m\u001b[0m\n\u001b[0;32m     25\u001b[0m \u001b[0mfemale_percent\u001b[0m\u001b[1;33m=\u001b[0m\u001b[1;33m(\u001b[0m\u001b[0mfemale_genders\u001b[0m \u001b[1;33m/\u001b[0m \u001b[0munique_players\u001b[0m\u001b[1;33m)\u001b[0m\u001b[1;33m*\u001b[0m\u001b[1;36m100\u001b[0m\u001b[1;33m\u001b[0m\u001b[1;33m\u001b[0m\u001b[0m\n\u001b[1;32m---> 26\u001b[1;33m \u001b[0mother_percent\u001b[0m\u001b[1;33m=\u001b[0m\u001b[1;33m(\u001b[0m\u001b[0mother_genders\u001b[0m \u001b[1;33m/\u001b[0m \u001b[0munique_players\u001b[0m\u001b[1;33m)\u001b[0m\u001b[1;33m*\u001b[0m\u001b[1;36m100\u001b[0m\u001b[1;33m\u001b[0m\u001b[1;33m\u001b[0m\u001b[0m\n\u001b[0m\u001b[0;32m     27\u001b[0m \u001b[1;33m\u001b[0m\u001b[0m\n\u001b[0;32m     28\u001b[0m genders_summary_df = pd.DataFrame({\"Total Count\": unique_players, \n",
      "\u001b[1;31mNameError\u001b[0m: name 'other_genders' is not defined"
     ]
    }
   ],
   "source": [
    "# determine total# of unique players \n",
    "unique_players=my_df.nunique()[\"SN\"]\n",
    "#print(unique_players)\n",
    "\n",
    "#count number of differnet types of genders\n",
    "genders_df=pd.DataFrame(purchase_data).groupby(\"Gender\")\n",
    "total_genders=len(genders_df)\n",
    "total_genders\n",
    "#print(total_genders)\n",
    "\n",
    "grouped_df = my_df.groupby( [\"Gender\", \"SN\"] )\n",
    "new_df=pd.DataFrame(grouped_df.size().reset_index(name = \"Group_Count\"))\n",
    "#print(new_df)\n",
    "\n",
    "# Determine count by Gender\n",
    "male_genders=len(grouped_df.Gender.value_counts().Male)\n",
    "female_genders=len(grouped_df.Gender.value_counts().Female)\n",
    "#other_genders=unique_players-male_genders-female_genders\n",
    "others_genders=len(grouped_df.Gender.value_counts()[\"Other / Non-Disclosed\"])\n",
    "print(others_genders)\n",
    "print(grouped_df.Gender.value_counts())\n",
    "\n",
    "# Determine percent by Gender\n",
    "male_percent=(male_genders / unique_players)*100\n",
    "female_percent=(female_genders / unique_players)*100\n",
    "other_percent=(other_genders / unique_players)*100\n",
    "\n",
    "genders_summary_df = pd.DataFrame({\"Total Count\": unique_players, \n",
    "                                   \"Male\" : male_genders,\n",
    "                                   \"Female\" : female_genders,\n",
    "                                   \"Other / Non-Disclosed\" : other_genders,\n",
    "                                   \"Male %\" : male_percent,\n",
    "                                   \"Female %\" : female_percent,                                   \n",
    "                                   \"Other / Non-Disclosed %\" : other_percent},\n",
    "                           index=[0])\n",
    "print(genders_summary_df)\n",
    "print(genders_summary_df.dtypes)\n",
    "\n",
    "genders_summary_df[\"Male %\"] = genders_summary_df[\"Male %\"].astype(float).map(\"{:,.2f}\".format)\n",
    "\n",
    "genders_summary_df\n",
    "\n"
   ]
  },
  {
   "cell_type": "markdown",
   "metadata": {},
   "source": [
    "\n",
    "## Purchasing Analysis (Gender)"
   ]
  },
  {
   "cell_type": "markdown",
   "metadata": {},
   "source": [
    "* Run basic calculations to obtain purchase count, avg. purchase price, avg. purchase total per person etc. by gender\n",
    "\n",
    "\n",
    "\n",
    "\n",
    "* Create a summary data frame to hold the results\n",
    "\n",
    "\n",
    "* Optional: give the displayed data cleaner formatting\n",
    "\n",
    "\n",
    "* Display the summary data frame"
   ]
  },
  {
   "cell_type": "code",
   "execution_count": null,
   "metadata": {},
   "outputs": [],
   "source": []
  },
  {
   "cell_type": "markdown",
   "metadata": {},
   "source": [
    "## Age Demographics"
   ]
  },
  {
   "cell_type": "markdown",
   "metadata": {},
   "source": [
    "* Establish bins for ages\n",
    "\n",
    "\n",
    "* Categorize the existing players using the age bins. Hint: use pd.cut()\n",
    "\n",
    "\n",
    "* Calculate the numbers and percentages by age group\n",
    "\n",
    "\n",
    "* Create a summary data frame to hold the results\n",
    "\n",
    "\n",
    "* Optional: round the percentage column to two decimal points\n",
    "\n",
    "\n",
    "* Display Age Demographics Table\n"
   ]
  },
  {
   "cell_type": "code",
   "execution_count": 7,
   "metadata": {},
   "outputs": [
    {
     "ename": "NameError",
     "evalue": "name 'df' is not defined",
     "output_type": "error",
     "traceback": [
      "\u001b[1;31m---------------------------------------------------------------------------\u001b[0m",
      "\u001b[1;31mNameError\u001b[0m                                 Traceback (most recent call last)",
      "\u001b[1;32mC:\\Users\\BZNORT~1\\AppData\\Local\\Temp/ipykernel_10964/89923326.py\u001b[0m in \u001b[0;36m<module>\u001b[1;34m\u001b[0m\n\u001b[0;32m     15\u001b[0m \u001b[0mgroup_names\u001b[0m \u001b[1;33m=\u001b[0m \u001b[1;33m[\u001b[0m\u001b[1;34m\"F\"\u001b[0m\u001b[1;33m,\u001b[0m \u001b[1;34m\"D\"\u001b[0m\u001b[1;33m,\u001b[0m \u001b[1;34m\"C\"\u001b[0m\u001b[1;33m,\u001b[0m \u001b[1;34m\"B\"\u001b[0m\u001b[1;33m,\u001b[0m \u001b[1;34m\"A\"\u001b[0m\u001b[1;33m]\u001b[0m\u001b[1;33m\u001b[0m\u001b[1;33m\u001b[0m\u001b[0m\n\u001b[0;32m     16\u001b[0m \u001b[1;33m\u001b[0m\u001b[0m\n\u001b[1;32m---> 17\u001b[1;33m \u001b[0mdf\u001b[0m\u001b[1;33m[\u001b[0m\u001b[1;34m\"Test Score Summary\"\u001b[0m\u001b[1;33m]\u001b[0m \u001b[1;33m=\u001b[0m \u001b[0mpd\u001b[0m\u001b[1;33m.\u001b[0m\u001b[0mcut\u001b[0m\u001b[1;33m(\u001b[0m\u001b[0mdf\u001b[0m\u001b[1;33m[\u001b[0m\u001b[1;34m\"Test Score\"\u001b[0m\u001b[1;33m]\u001b[0m\u001b[1;33m,\u001b[0m \u001b[0mbins\u001b[0m\u001b[1;33m,\u001b[0m \u001b[0mlabels\u001b[0m\u001b[1;33m=\u001b[0m\u001b[0mgroup_names\u001b[0m\u001b[1;33m,\u001b[0m \u001b[0minclude_lowest\u001b[0m\u001b[1;33m=\u001b[0m\u001b[1;32mTrue\u001b[0m\u001b[1;33m)\u001b[0m\u001b[1;33m\u001b[0m\u001b[1;33m\u001b[0m\u001b[0m\n\u001b[0m\u001b[0;32m     18\u001b[0m \u001b[0mdf\u001b[0m\u001b[1;33m\u001b[0m\u001b[1;33m\u001b[0m\u001b[0m\n",
      "\u001b[1;31mNameError\u001b[0m: name 'df' is not defined"
     ]
    }
   ],
   "source": [
    "#purchase_data\n",
    "\n",
    "raw_data = {\n",
    "    'Class': ['Oct', 'Oct', 'Jan', 'Jan', 'Oct', 'Jan'], \n",
    "    'Name': [\"Cyndy\", \"Logan\", \"Laci\", \"Elmer\", \"Crystle\", \"Emmie\"], \n",
    "    'Test Score': [90, 59, 72, 88, 98, 60]}\n",
    "#df = pd.DataFrame(raw_data)\n",
    "#df\n",
    "\n",
    "# Create the bins in which Data will be held\n",
    "# Bins are 0, 59.9, 69.9, 79.9, 89.9, 100. \n",
    "bins = [10, 13.9, 14, 79.9, 89.9, 100]\n",
    "\n",
    "# Create the names for the five bins\n",
    "group_names = [\"F\", \"D\", \"C\", \"B\", \"A\"]\n",
    "\n",
    "df[\"Test Score Summary\"] = pd.cut(df[\"Test Score\"], bins, labels=group_names, include_lowest=True)\n",
    "df\n"
   ]
  },
  {
   "cell_type": "markdown",
   "metadata": {},
   "source": [
    "## Purchasing Analysis (Age)"
   ]
  },
  {
   "cell_type": "markdown",
   "metadata": {},
   "source": [
    "* Bin the purchase_data data frame by age\n",
    "\n",
    "\n",
    "* Run basic calculations to obtain purchase count, avg. purchase price, avg. purchase total per person etc. in the table below\n",
    "\n",
    "\n",
    "* Create a summary data frame to hold the results\n",
    "\n",
    "\n",
    "* Optional: give the displayed data cleaner formatting\n",
    "\n",
    "\n",
    "* Display the summary data frame"
   ]
  },
  {
   "cell_type": "code",
   "execution_count": null,
   "metadata": {},
   "outputs": [],
   "source": [
    "# my_df_3=pd.DataFrame(purchase_data)\n",
    "# print(my_df_3)\n",
    "\n",
    "#counts_unique_players=len(my_df_2[\"SN\"].value_counts())\n",
    "#pd.DataFrame({\"Total Players\": [counts_unique_players]})\n",
    "#purchase_data_age2 = {}\n",
    "    \n",
    "bins = [0, 9.9, 14.9, 19.9, 24.9, 29.9, 34.9, 39.9,200]\n",
    "group_names = [\"<10\", \"10-14\", \"15-19\", \"20-24\", \"25-29\", \"30-34\", \"35-39\", \"40+\"]\n",
    "purchase_data[\"Age Ranges\"] = pd.cut(purchase_data[\"Age\"], bins, labels=group_names, include_lowest=True)\n",
    "#purchase_data_age2[\"Purchase Count\"] = len(purchase_data[\"SN\"].value_counts())\n",
    "#purchase_data_age2[\"Purchase Count\"] = purchase_data[\"Purchase by Age\"].count()\n",
    "#\"Avg Total Purchase per Person\"\n",
    "\n",
    "group_a_r=purchase_data.groupby([\"Age Ranges\"])\n",
    "#group_compare = purchase_data.groupby([\"Age Ranges\"])\n",
    "gar=group_a_r.mean()\n",
    "gar\n",
    "#purchase_data\n"
   ]
  },
  {
   "cell_type": "markdown",
   "metadata": {},
   "source": [
    "## Top Spenders"
   ]
  },
  {
   "cell_type": "markdown",
   "metadata": {},
   "source": [
    "* Run basic calculations to obtain the results in the table below\n",
    "\n",
    "\n",
    "* Create a summary data frame to hold the results\n",
    "\n",
    "\n",
    "* Sort the total purchase value column in descending order\n",
    "\n",
    "\n",
    "* Optional: give the displayed data cleaner formatting\n",
    "\n",
    "\n",
    "* Display a preview of the summary data frame\n",
    "\n"
   ]
  },
  {
   "cell_type": "code",
   "execution_count": null,
   "metadata": {},
   "outputs": [],
   "source": []
  },
  {
   "cell_type": "markdown",
   "metadata": {},
   "source": [
    "## Most Popular Items"
   ]
  },
  {
   "cell_type": "markdown",
   "metadata": {},
   "source": [
    "* Retrieve the Item ID, Item Name, and Item Price columns\n",
    "\n",
    "\n",
    "* Group by Item ID and Item Name. Perform calculations to obtain purchase count, average item price, and total purchase value\n",
    "\n",
    "\n",
    "* Create a summary data frame to hold the results\n",
    "\n",
    "\n",
    "* Sort the purchase count column in descending order\n",
    "\n",
    "\n",
    "* Optional: give the displayed data cleaner formatting\n",
    "\n",
    "\n",
    "* Display a preview of the summary data frame\n",
    "\n"
   ]
  },
  {
   "cell_type": "code",
   "execution_count": null,
   "metadata": {},
   "outputs": [],
   "source": []
  },
  {
   "cell_type": "markdown",
   "metadata": {},
   "source": [
    "## Most Profitable Items"
   ]
  },
  {
   "cell_type": "markdown",
   "metadata": {},
   "source": [
    "* Sort the above table by total purchase value in descending order\n",
    "\n",
    "\n",
    "* Optional: give the displayed data cleaner formatting\n",
    "\n",
    "\n",
    "* Display a preview of the data frame\n",
    "\n"
   ]
  },
  {
   "cell_type": "code",
   "execution_count": null,
   "metadata": {
    "scrolled": true
   },
   "outputs": [],
   "source": []
  }
 ],
 "metadata": {
  "anaconda-cloud": {},
  "kernel_info": {
   "name": "python3"
  },
  "kernelspec": {
   "display_name": "Python 3 (ipykernel)",
   "language": "python",
   "name": "python3"
  },
  "language_info": {
   "codemirror_mode": {
    "name": "ipython",
    "version": 3
   },
   "file_extension": ".py",
   "mimetype": "text/x-python",
   "name": "python",
   "nbconvert_exporter": "python",
   "pygments_lexer": "ipython3",
   "version": "3.9.7"
  },
  "latex_envs": {
   "LaTeX_envs_menu_present": true,
   "autoclose": false,
   "autocomplete": true,
   "bibliofile": "biblio.bib",
   "cite_by": "apalike",
   "current_citInitial": 1,
   "eqLabelWithNumbers": true,
   "eqNumInitial": 1,
   "hotkeys": {
    "equation": "Ctrl-E",
    "itemize": "Ctrl-I"
   },
   "labels_anchors": false,
   "latex_user_defs": false,
   "report_style_numbering": false,
   "user_envs_cfg": false
  },
  "nteract": {
   "version": "0.2.0"
  }
 },
 "nbformat": 4,
 "nbformat_minor": 2
}
