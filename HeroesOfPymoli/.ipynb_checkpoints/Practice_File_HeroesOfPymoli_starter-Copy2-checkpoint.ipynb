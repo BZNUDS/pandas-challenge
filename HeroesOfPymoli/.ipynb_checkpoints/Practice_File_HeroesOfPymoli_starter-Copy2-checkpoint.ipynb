{
 "cells": [
  {
   "cell_type": "markdown",
   "metadata": {},
   "source": [
    "### Note\n",
    "* Instructions have been included for each segment. You do not have to follow them exactly, but they are included to help you think through the steps."
   ]
  },
  {
   "cell_type": "code",
   "execution_count": 1,
   "metadata": {},
   "outputs": [
    {
     "data": {
      "text/html": [
       "<div>\n",
       "<style scoped>\n",
       "    .dataframe tbody tr th:only-of-type {\n",
       "        vertical-align: middle;\n",
       "    }\n",
       "\n",
       "    .dataframe tbody tr th {\n",
       "        vertical-align: top;\n",
       "    }\n",
       "\n",
       "    .dataframe thead th {\n",
       "        text-align: right;\n",
       "    }\n",
       "</style>\n",
       "<table border=\"1\" class=\"dataframe\">\n",
       "  <thead>\n",
       "    <tr style=\"text-align: right;\">\n",
       "      <th></th>\n",
       "      <th>Purchase ID</th>\n",
       "      <th>SN</th>\n",
       "      <th>Age</th>\n",
       "      <th>Gender</th>\n",
       "      <th>Item ID</th>\n",
       "      <th>Item Name</th>\n",
       "      <th>Price</th>\n",
       "    </tr>\n",
       "  </thead>\n",
       "  <tbody>\n",
       "    <tr>\n",
       "      <th>0</th>\n",
       "      <td>0</td>\n",
       "      <td>Lisim78</td>\n",
       "      <td>20</td>\n",
       "      <td>Male</td>\n",
       "      <td>108</td>\n",
       "      <td>Extraction, Quickblade Of Trembling Hands</td>\n",
       "      <td>3.53</td>\n",
       "    </tr>\n",
       "    <tr>\n",
       "      <th>1</th>\n",
       "      <td>1</td>\n",
       "      <td>Lisovynya38</td>\n",
       "      <td>40</td>\n",
       "      <td>Male</td>\n",
       "      <td>143</td>\n",
       "      <td>Frenzied Scimitar</td>\n",
       "      <td>1.56</td>\n",
       "    </tr>\n",
       "    <tr>\n",
       "      <th>2</th>\n",
       "      <td>2</td>\n",
       "      <td>Ithergue48</td>\n",
       "      <td>24</td>\n",
       "      <td>Male</td>\n",
       "      <td>92</td>\n",
       "      <td>Final Critic</td>\n",
       "      <td>4.88</td>\n",
       "    </tr>\n",
       "    <tr>\n",
       "      <th>3</th>\n",
       "      <td>3</td>\n",
       "      <td>Chamassasya86</td>\n",
       "      <td>24</td>\n",
       "      <td>Male</td>\n",
       "      <td>100</td>\n",
       "      <td>Blindscythe</td>\n",
       "      <td>3.27</td>\n",
       "    </tr>\n",
       "    <tr>\n",
       "      <th>4</th>\n",
       "      <td>4</td>\n",
       "      <td>Iskosia90</td>\n",
       "      <td>23</td>\n",
       "      <td>Male</td>\n",
       "      <td>131</td>\n",
       "      <td>Fury</td>\n",
       "      <td>1.44</td>\n",
       "    </tr>\n",
       "    <tr>\n",
       "      <th>...</th>\n",
       "      <td>...</td>\n",
       "      <td>...</td>\n",
       "      <td>...</td>\n",
       "      <td>...</td>\n",
       "      <td>...</td>\n",
       "      <td>...</td>\n",
       "      <td>...</td>\n",
       "    </tr>\n",
       "    <tr>\n",
       "      <th>775</th>\n",
       "      <td>775</td>\n",
       "      <td>Aethedru70</td>\n",
       "      <td>21</td>\n",
       "      <td>Female</td>\n",
       "      <td>60</td>\n",
       "      <td>Wolf</td>\n",
       "      <td>3.54</td>\n",
       "    </tr>\n",
       "    <tr>\n",
       "      <th>776</th>\n",
       "      <td>776</td>\n",
       "      <td>Iral74</td>\n",
       "      <td>21</td>\n",
       "      <td>Male</td>\n",
       "      <td>164</td>\n",
       "      <td>Exiled Doomblade</td>\n",
       "      <td>1.63</td>\n",
       "    </tr>\n",
       "    <tr>\n",
       "      <th>777</th>\n",
       "      <td>777</td>\n",
       "      <td>Yathecal72</td>\n",
       "      <td>20</td>\n",
       "      <td>Male</td>\n",
       "      <td>67</td>\n",
       "      <td>Celeste, Incarnation of the Corrupted</td>\n",
       "      <td>3.46</td>\n",
       "    </tr>\n",
       "    <tr>\n",
       "      <th>778</th>\n",
       "      <td>778</td>\n",
       "      <td>Sisur91</td>\n",
       "      <td>7</td>\n",
       "      <td>Male</td>\n",
       "      <td>92</td>\n",
       "      <td>Final Critic</td>\n",
       "      <td>4.19</td>\n",
       "    </tr>\n",
       "    <tr>\n",
       "      <th>779</th>\n",
       "      <td>779</td>\n",
       "      <td>Ennrian78</td>\n",
       "      <td>24</td>\n",
       "      <td>Male</td>\n",
       "      <td>50</td>\n",
       "      <td>Dawn</td>\n",
       "      <td>4.60</td>\n",
       "    </tr>\n",
       "  </tbody>\n",
       "</table>\n",
       "<p>780 rows × 7 columns</p>\n",
       "</div>"
      ],
      "text/plain": [
       "     Purchase ID             SN  Age  Gender  Item ID  \\\n",
       "0              0        Lisim78   20    Male      108   \n",
       "1              1    Lisovynya38   40    Male      143   \n",
       "2              2     Ithergue48   24    Male       92   \n",
       "3              3  Chamassasya86   24    Male      100   \n",
       "4              4      Iskosia90   23    Male      131   \n",
       "..           ...            ...  ...     ...      ...   \n",
       "775          775     Aethedru70   21  Female       60   \n",
       "776          776         Iral74   21    Male      164   \n",
       "777          777     Yathecal72   20    Male       67   \n",
       "778          778        Sisur91    7    Male       92   \n",
       "779          779      Ennrian78   24    Male       50   \n",
       "\n",
       "                                     Item Name  Price  \n",
       "0    Extraction, Quickblade Of Trembling Hands   3.53  \n",
       "1                            Frenzied Scimitar   1.56  \n",
       "2                                 Final Critic   4.88  \n",
       "3                                  Blindscythe   3.27  \n",
       "4                                         Fury   1.44  \n",
       "..                                         ...    ...  \n",
       "775                                       Wolf   3.54  \n",
       "776                           Exiled Doomblade   1.63  \n",
       "777      Celeste, Incarnation of the Corrupted   3.46  \n",
       "778                               Final Critic   4.19  \n",
       "779                                       Dawn   4.60  \n",
       "\n",
       "[780 rows x 7 columns]"
      ]
     },
     "execution_count": 1,
     "metadata": {},
     "output_type": "execute_result"
    }
   ],
   "source": [
    "# Dependencies and Setup\n",
    "import pandas as pd\n",
    "import numpy\n",
    "\n",
    "# File to Load (Remember to Change These)\n",
    "file_to_load = \"Resources/purchase_data.csv\"\n",
    "\n",
    "# Read Purchasing File and store into Pandas data frame\n",
    "purchase_data = pd.read_csv(file_to_load)\n",
    "my_df=pd.DataFrame(purchase_data)\n",
    "my_df_summary=({})\n",
    "my_df"
   ]
  },
  {
   "cell_type": "markdown",
   "metadata": {},
   "source": [
    "## Player Count"
   ]
  },
  {
   "cell_type": "markdown",
   "metadata": {},
   "source": [
    "* Display the total number of players\n"
   ]
  },
  {
   "cell_type": "code",
   "execution_count": 2,
   "metadata": {},
   "outputs": [
    {
     "data": {
      "text/html": [
       "<div>\n",
       "<style scoped>\n",
       "    .dataframe tbody tr th:only-of-type {\n",
       "        vertical-align: middle;\n",
       "    }\n",
       "\n",
       "    .dataframe tbody tr th {\n",
       "        vertical-align: top;\n",
       "    }\n",
       "\n",
       "    .dataframe thead th {\n",
       "        text-align: right;\n",
       "    }\n",
       "</style>\n",
       "<table border=\"1\" class=\"dataframe\">\n",
       "  <thead>\n",
       "    <tr style=\"text-align: right;\">\n",
       "      <th></th>\n",
       "      <th>Total Players</th>\n",
       "    </tr>\n",
       "  </thead>\n",
       "  <tbody>\n",
       "    <tr>\n",
       "      <th>0</th>\n",
       "      <td>576</td>\n",
       "    </tr>\n",
       "  </tbody>\n",
       "</table>\n",
       "</div>"
      ],
      "text/plain": [
       "   Total Players\n",
       "0            576"
      ]
     },
     "execution_count": 2,
     "metadata": {},
     "output_type": "execute_result"
    }
   ],
   "source": [
    "my_df_2=pd.DataFrame(purchase_data) \n",
    "counts_unique_players=len(my_df_2[\"SN\"].value_counts())\n",
    "pd.DataFrame({\"Total Players\": [counts_unique_players]})\n",
    "\n",
    "counts_unique_players=len(my_df[\"SN\"].value_counts())\n",
    "total_unique_players=pd.DataFrame({\"Total Players\": [counts_unique_players]})\n",
    "total_unique_players\n"
   ]
  },
  {
   "cell_type": "markdown",
   "metadata": {},
   "source": [
    "## Purchasing Analysis (Total)"
   ]
  },
  {
   "cell_type": "markdown",
   "metadata": {},
   "source": [
    "* Run basic calculations to obtain number of unique items, average price, etc.\n",
    "\n",
    "\n",
    "* Create a summary data frame to hold the results\n",
    "\n",
    "\n",
    "* Optional: give the displayed data cleaner formatting\n",
    "\n",
    "\n",
    "* Display the summary data frame\n"
   ]
  },
  {
   "cell_type": "code",
   "execution_count": 3,
   "metadata": {
    "scrolled": true
   },
   "outputs": [
    {
     "name": "stdout",
     "output_type": "stream",
     "text": [
      "   Number of Unique Items  Average Price  Number of Purchases  Total Reveune\n",
      "0                     179       3.050987                  780        2379.77\n"
     ]
    }
   ],
   "source": [
    "# Determne number of Unique Items, Total Purchase Amount and Total Revenue\n",
    "counts_unique_items=len(my_df[\"Item ID\"].value_counts()) \n",
    "average_price=my_df[\"Price\"].mean()\n",
    "total_purchases=my_df[\"SN\"].count()\n",
    "total_revenue=average_price * total_purchases\n",
    "\n",
    "#my_df_summary[\"Price\"] = my_df[\"Price\"].mean()\n",
    "#print(my_df_summary[\"Price\"])\n",
    "#print(my_df_summary.dtypes)\n",
    "#print(average_price.dtypes)\n",
    "#counts_unique_items = counts_unique_items.astype(float).map(\"${:,.2f}\".format)\n",
    "#my_df_summary[\"Price\"] = my_df_summary[\"Price\"].astype(float).map(\"${:,.2f}\".format)\n",
    "# print(my_df_var.dtypes)\n",
    "#print(average_price.dtypes)\n",
    "#print(my_df_summary[\"Price\"])\n",
    "# my_df_var would be series\n",
    "# my_df[\"Price_F\"]=my_df_var\n",
    "# print(my_df[\"Price_F\"])\n",
    "\n",
    "summary_df = pd.DataFrame({\"Number of Unique Items\": counts_unique_items,\n",
    "                          \"Average Price\" : average_price, \n",
    "                           \"Number of Purchases\": total_purchases,\n",
    "                          \"Total Reveune\" : total_revenue},\n",
    "                           index=[0])\n",
    "print(summary_df)\n",
    "\n",
    "#type(average_price)\n",
    "#type(total_purchases)\n",
    "#type(total_revenue)"
   ]
  },
  {
   "cell_type": "markdown",
   "metadata": {},
   "source": [
    "## Gender Demographics"
   ]
  },
  {
   "cell_type": "markdown",
   "metadata": {},
   "source": [
    "* Percentage and Count of Male Players\n",
    "\n",
    "\n",
    "* Percentage and Count of Female Players\n",
    "\n",
    "\n",
    "* Percentage and Count of Other / Non-Disclosed\n",
    "\n",
    "\n"
   ]
  },
  {
   "cell_type": "code",
   "execution_count": 6,
   "metadata": {},
   "outputs": [
    {
     "name": "stdout",
     "output_type": "stream",
     "text": [
      "                    Gender             SN  Group_Count\n",
      "0                   Female    Adastirin33            1\n",
      "1                   Female  Aerithllora36            2\n",
      "2                   Female     Aethedru70            1\n",
      "3                   Female       Aidain51            1\n",
      "4                   Female      Aiduesu86            1\n",
      "..                     ...            ...          ...\n",
      "571  Other / Non-Disclosed       Lirtim36            1\n",
      "572  Other / Non-Disclosed     Maluncil97            2\n",
      "573  Other / Non-Disclosed      Rairith81            1\n",
      "574  Other / Non-Disclosed   Siarithria38            2\n",
      "575  Other / Non-Disclosed       Sundim98            1\n",
      "\n",
      "[576 rows x 3 columns]\n",
      "576\n"
     ]
    },
    {
     "data": {
      "text/html": [
       "<div>\n",
       "<style scoped>\n",
       "    .dataframe tbody tr th:only-of-type {\n",
       "        vertical-align: middle;\n",
       "    }\n",
       "\n",
       "    .dataframe tbody tr th {\n",
       "        vertical-align: top;\n",
       "    }\n",
       "\n",
       "    .dataframe thead th {\n",
       "        text-align: right;\n",
       "    }\n",
       "</style>\n",
       "<table border=\"1\" class=\"dataframe\">\n",
       "  <thead>\n",
       "    <tr style=\"text-align: right;\">\n",
       "      <th></th>\n",
       "      <th>Total Count</th>\n",
       "      <th>Percentage of Players</th>\n",
       "    </tr>\n",
       "  </thead>\n",
       "  <tbody>\n",
       "    <tr>\n",
       "      <th>0</th>\n",
       "      <td>484</td>\n",
       "      <td>84.03</td>\n",
       "    </tr>\n",
       "    <tr>\n",
       "      <th>1</th>\n",
       "      <td>81</td>\n",
       "      <td>14.06</td>\n",
       "    </tr>\n",
       "    <tr>\n",
       "      <th>2</th>\n",
       "      <td>11</td>\n",
       "      <td>1.91</td>\n",
       "    </tr>\n",
       "  </tbody>\n",
       "</table>\n",
       "</div>"
      ],
      "text/plain": [
       "   Total Count Percentage of Players\n",
       "0          484                 84.03\n",
       "1           81                 14.06\n",
       "2           11                  1.91"
      ]
     },
     "execution_count": 6,
     "metadata": {},
     "output_type": "execute_result"
    }
   ],
   "source": [
    "# determine total# of unique players \n",
    "unique_players=my_df.nunique()[\"SN\"]\n",
    "#print(unique_players)\n",
    "\n",
    "# genders_df_sum = genders_df.sum()\n",
    "# print(genders_df_sum[4:0])\n",
    "\n",
    "grouped_df = my_df.groupby( [\"Gender\", \"SN\"] )\n",
    "new_df=pd.DataFrame(grouped_df.size().reset_index(name = \"Group_Count\"))\n",
    "print(new_df)\n",
    "\n",
    "total_genders=len(grouped_df)\n",
    "total_genders\n",
    "print(total_genders)\n",
    "\n",
    "\n",
    "# Determine count by Gender\n",
    "male_genders=len(grouped_df.Gender.value_counts().Male)\n",
    "female_genders=len(grouped_df.Gender.value_counts().Female)\n",
    "#other_genders=unique_players-male_genders-female_genders\n",
    "other_genders=len(grouped_df.Gender.value_counts()[\"Other / Non-Disclosed\"])\n",
    "#print(other_genders)\n",
    "#print(grouped_df.Gender.value_counts())\n",
    "\n",
    "# Determine percent by Gender\n",
    "male_percent=(male_genders / unique_players)*100\n",
    "female_percent=(female_genders / unique_players)*100\n",
    "# other_percent=(other_genders / unique_players)*100\n",
    "other_percent=100-male_percent-female_percent\n",
    "\n",
    "# #below is close to working but formats across the columns not in rows****************************************\n",
    "# genders_summary_df = pd.DataFrame({\"Total Count\": unique_players, \n",
    "#                                    \"Male\" : male_genders,\n",
    "#                                    \"Female\" : female_genders,\n",
    "#                                    \"Other / Non-Disclosed\" : other_genders,\n",
    "#                                    \"Male %\" : male_percent,\n",
    "#                                    \"Female %\" : female_percent,                                   \n",
    "#                                    \"Other / Non-Disclosed %\" : other_percent},\n",
    "#                            index=[0])\n",
    "# print(genders_summary_df)\n",
    "# *************************************************************************************************************\n",
    "\n",
    "genders_summary_df = pd.DataFrame([{\"Total Count\": male_genders, \"Percentage of Players\": male_percent},\n",
    "                                  {\"Total Count\": female_genders, \"Percentage of Players\": female_percent},\n",
    "                                  {\"Total Count\": other_genders, \"Percentage of Players\": other_percent}])\n",
    "\n",
    "genders_summary_df[\"Percentage of Players\"] = genders_summary_df[\"Percentage of Players\"].astype(float).map(\"{:,.2f}\".format)\n",
    "\n",
    "#print(genders_summary_df)\n",
    "#print(genders_summary_df.dtypes)\n",
    "\n",
    "# genders_summary_df[\"Male %\"] = genders_summary_df[\"Male %\"].astype(float).map(\"{:,.2f}\".format)\n",
    "# genders_summary_df[\"Female %\"] = genders_summary_df[\"Female %\"].astype(float).map(\"{:,.2f}\".format)\n",
    "# genders_summary_df[\"Other / Non-Disclosed %\"] = genders_summary_df[\"Other / Non-Disclosed %\"].astype(float).map(\"{:,.2f}\".format)\n",
    "\n",
    "genders_summary_df\n",
    "# test_it=genders_df.sum()[0:4]\n",
    "# print(test_it[0:0])\n",
    "\n"
   ]
  },
  {
   "cell_type": "markdown",
   "metadata": {},
   "source": [
    "\n",
    "## Purchasing Analysis (Gender)"
   ]
  },
  {
   "cell_type": "markdown",
   "metadata": {},
   "source": [
    "* Run basic calculations to obtain purchase count, avg. purchase price, avg. purchase total per person etc. by gender\n",
    "\n",
    "\n",
    "\n",
    "\n",
    "* Create a summary data frame to hold the results\n",
    "\n",
    "\n",
    "* Optional: give the displayed data cleaner formatting\n",
    "\n",
    "\n",
    "* Display the summary data frame"
   ]
  },
  {
   "cell_type": "code",
   "execution_count": 5,
   "metadata": {},
   "outputs": [
    {
     "name": "stdout",
     "output_type": "stream",
     "text": [
      "                       Purchase ID   SN  Age  Item ID  Item Name  Price\n",
      "Gender                                                                 \n",
      "Female                         113  113  113      113        113    113\n",
      "Male                           652  652  652      652        652    652\n",
      "Other / Non-Disclosed           15   15   15       15         15     15\n"
     ]
    },
    {
     "ename": "NameError",
     "evalue": "name 'gender_group' is not defined",
     "output_type": "error",
     "traceback": [
      "\u001b[1;31m---------------------------------------------------------------------------\u001b[0m",
      "\u001b[1;31mNameError\u001b[0m                                 Traceback (most recent call last)",
      "\u001b[1;32mC:\\Users\\BZNORT~1\\AppData\\Local\\Temp/ipykernel_29088/2059818960.py\u001b[0m in \u001b[0;36m<module>\u001b[1;34m\u001b[0m\n\u001b[0;32m     12\u001b[0m \u001b[1;31m#gender_work_df = pd.DataFrame(genders_df[\"Price\"].sum())\u001b[0m\u001b[1;33m\u001b[0m\u001b[1;33m\u001b[0m\u001b[0m\n\u001b[0;32m     13\u001b[0m \u001b[1;33m\u001b[0m\u001b[0m\n\u001b[1;32m---> 14\u001b[1;33m \u001b[0mgender_work_df\u001b[0m\u001b[1;33m[\u001b[0m\u001b[1;34m\"Purchase Count\"\u001b[0m\u001b[1;33m]\u001b[0m \u001b[1;33m=\u001b[0m \u001b[0mpd\u001b[0m\u001b[1;33m.\u001b[0m\u001b[0mDataFrame\u001b[0m\u001b[1;33m(\u001b[0m\u001b[0mgender_group\u001b[0m\u001b[1;33m[\u001b[0m\u001b[1;34m\"Purchase ID\"\u001b[0m\u001b[1;33m]\u001b[0m\u001b[1;33m.\u001b[0m\u001b[0mcount\u001b[0m\u001b[1;33m(\u001b[0m\u001b[1;33m)\u001b[0m\u001b[1;33m)\u001b[0m\u001b[1;33m\u001b[0m\u001b[1;33m\u001b[0m\u001b[0m\n\u001b[0m\u001b[0;32m     15\u001b[0m \u001b[0mgender_work_df\u001b[0m\u001b[1;33m[\u001b[0m\u001b[1;34m\"Average Purchase Price\"\u001b[0m\u001b[1;33m]\u001b[0m \u001b[1;33m=\u001b[0m \u001b[0mgender_work_df\u001b[0m\u001b[1;33m[\u001b[0m\u001b[1;34m\"Price\"\u001b[0m\u001b[1;33m]\u001b[0m\u001b[1;33m.\u001b[0m\u001b[0mmean\u001b[0m\u001b[1;33m(\u001b[0m\u001b[1;33m)\u001b[0m\u001b[1;33m\u001b[0m\u001b[1;33m\u001b[0m\u001b[0m\n\u001b[0;32m     16\u001b[0m \u001b[0mprint\u001b[0m\u001b[1;33m(\u001b[0m\u001b[0mgender_work_df\u001b[0m\u001b[1;33m)\u001b[0m\u001b[1;33m\u001b[0m\u001b[1;33m\u001b[0m\u001b[0m\n",
      "\u001b[1;31mNameError\u001b[0m: name 'gender_group' is not defined"
     ]
    }
   ],
   "source": [
    "#  # Grouping the DataFrame by \"Assignee\"\n",
    "# assignee_group = eclipse_df.groupby(\"Assignee\")\n",
    "\n",
    "# # Count how many of each component Assignees worked on and create DataFrame\n",
    "# assignee_work_df = pd.DataFrame(assignee_group[\"Component\"].value_counts())\n",
    "# assignee_work_df.head()\n",
    "\n",
    "# count number of differnet types of genders\n",
    "genders_df=pd.DataFrame(purchase_data).groupby([\"Gender\"]) \n",
    "print(genders_df.count())\n",
    "\n",
    "#gender_work_df = pd.DataFrame(genders_df[\"Price\"].sum())\n",
    "\n",
    "gender_work_df[\"Purchase Count\"] = pd.DataFrame(gender_group[\"Purchase ID\"].count())\n",
    "gender_work_df[\"Average Purchase Price\"] = gender_work_df[\"Price\"].mean()\n",
    "print(gender_work_df)\n",
    "\n",
    "# Grouping the DataFrame by \"Gender\"\n",
    "my_df=pd.DataFrame(purchase_data)\n",
    "gender_group = my_df.groupby( \"Gender\" )\n",
    "#gender_work_df = my_df.groupby( \"Gender\" )\n",
    "\n",
    "# Count how many of each component Assignees worked on and create DataFrame\n",
    "# gender_work_df[\"Purchase Count\"] = pd.DataFrame(gender_group[\"Purchase ID\"].count())\n",
    "# gender_work_df[\"Average Purchase Price\"]  = pd.DataFrame(gender_group[\"Price\"].mean())\n",
    "# gender_work_df[\"Total Purchase Value\"][0] = (gender_work_df[\"Purchase Count\"][0] * gender_work_df[\"Average Purchase Price\"][0])\n",
    "# gender_work_df[\"Total Purchase Value\"][1] = (gender_work_df[\"Purchase Count\"][1] * gender_work_df[\"Average Purchase Price\"][1])\n",
    "# gender_work_df[\"Total Purchase Value\"][2] = (gender_work_df[\"Purchase Count\"][2] * gender_work_df[\"Average Purchase Price\"][2])\n",
    "# gender_work_df[\"Avg Total Purchase per Person\"]  = len(pd.DataFrame(gender_group[\"Price\"].mean()))\n",
    "\n",
    "# # Determine count by Gender\n",
    "# male_genders=len(gender_group.Gender.value_counts().Male)\n",
    "# female_genders=len(gender_group.Gender.value_counts().Female)\n",
    "# #other_genders=unique_players-male_genders-female_genders\n",
    "# other_genders=len(gender_group.Gender.value_counts()[\"Other / Non-Disclosed\"])\n",
    "\n",
    "# grouped_df = my_df.groupby( [\"Gender\", \"SN\"] )\n",
    "# new_df=pd.DataFrame(grouped_df.size().reset_index(name = \"Group_Count\"))\n",
    "# #print(new_df)\n",
    "\n",
    "# Determine count by Gender\n",
    "male_genders=len(grouped_df.Gender.value_counts().Male)\n",
    "female_genders=len(grouped_df.Gender.value_counts().Female)\n",
    "#other_genders=unique_players-male_genders-female_genders\n",
    "other_genders=len(grouped_df.Gender.value_counts()[\"Other / Non-Disclosed\"])\n",
    "\n",
    "print(\"BZ Genders\")\n",
    "print(female_genders)\n",
    "print(male_genders)\n",
    "print(other_genders)\n",
    "\n",
    "# gender_work_df[\"Avg Total Purchase per Person\"][0] = ((gender_work_df[\"Total Purchase Value\"][0]) / female_genders)\n",
    "# gender_work_df[\"Avg Total Purchase per Person\"][1] = (gender_work_df[\"Total Purchase Value\"][1] / male_genders)\n",
    "# gender_work_df[\"Avg Total Purchase per Person\"][2] = (gender_work_df[\"Total Purchase Value\"][2] / other_genders)\n",
    "\n",
    "# gender_work_df[\"Average Purchase Price\"] = gender_work_df[\"Average Purchase Price\"].astype(float).map(\"${:,.2f}\".format)\n",
    "\n",
    "# gender_work_df.head()"
   ]
  },
  {
   "cell_type": "markdown",
   "metadata": {},
   "source": [
    "## Age Demographics"
   ]
  },
  {
   "cell_type": "markdown",
   "metadata": {},
   "source": [
    "* Establish bins for ages\n",
    "\n",
    "\n",
    "* Categorize the existing players using the age bins. Hint: use pd.cut()\n",
    "\n",
    "\n",
    "* Calculate the numbers and percentages by age group\n",
    "\n",
    "\n",
    "* Create a summary data frame to hold the results\n",
    "\n",
    "\n",
    "* Optional: round the percentage column to two decimal points\n",
    "\n",
    "\n",
    "* Display Age Demographics Table\n"
   ]
  },
  {
   "cell_type": "code",
   "execution_count": null,
   "metadata": {},
   "outputs": [],
   "source": [
    "bins = [0, 9.9, 14.9, 19.9, 24.9, 29.9, 34.9, 39.9,200]\n",
    "group_names = [\"<10\", \"10-14\", \"15-19\", \"20-24\", \"25-29\", \"30-34\", \"35-39\", \"40+\"]\n",
    "purchase_data[\"Age Ranges\"] = pd.cut(purchase_data[\"Age\"], bins, labels=group_names, include_lowest=True)\n",
    "#purchase_data_age2[\"Purchase Count\"] = len(purchase_data[\"SN\"].value_counts())\n",
    "#purchase_data_age2[\"Purchase Count\"] = purchase_data[\"Purchase by Age\"].count()\n",
    "#\"Avg Total Purchase per Person\"\n",
    "\n",
    "group_a_r=purchase_data.groupby([\"Age Ranges\"])\n",
    "#group_compare = purchase_data.groupby([\"Age Ranges\"])\n",
    "gar=group_a_r.mean()\n",
    "gar\n",
    "\n",
    "#purchase_data"
   ]
  },
  {
   "cell_type": "markdown",
   "metadata": {},
   "source": [
    "## Purchasing Analysis (Age)"
   ]
  },
  {
   "cell_type": "markdown",
   "metadata": {},
   "source": [
    "* Bin the purchase_data data frame by age\n",
    "\n",
    "\n",
    "* Run basic calculations to obtain purchase count, avg. purchase price, avg. purchase total per person etc. in the table below\n",
    "\n",
    "\n",
    "* Create a summary data frame to hold the results\n",
    "\n",
    "\n",
    "* Optional: give the displayed data cleaner formatting\n",
    "\n",
    "\n",
    "* Display the summary data frame"
   ]
  },
  {
   "cell_type": "code",
   "execution_count": null,
   "metadata": {},
   "outputs": [],
   "source": [
    "bins_2 = [0, 9.9, 14.9, 19.9, 24.9, 29.9, 34.9, 39.9,200]\n",
    "group_names_2 = [\"<10\", \"10-14\", \"15-19\", \"20-24\", \"25-29\", \"30-34\", \"35-39\", \"40+\"]\n",
    "purchase_data[\"Age Ranges\"] = pd.cut(purchase_data[\"Age\"], bins_2, labels=group_names_2, include_lowest=True)\n",
    "#purchase_data_age2[\"Purchase Count\"] = len(purchase_data[\"SN\"].value_counts())\n",
    "#purchase_data_age2[\"Purchase Count\"] = purchase_data[\"Purchase by Age\"].count()\n",
    "#\"Avg Total Purchase per Person\"\n",
    "\n",
    "group_a_r_2=purchase_data.groupby([\"Age Ranges\"])\n",
    "#group_compare = purchase_data.groupby([\"Age Ranges\"])\n",
    "gar_2=group_a_r_2.mean()\n",
    "gar_2\n",
    "#purchase_data\n"
   ]
  },
  {
   "cell_type": "markdown",
   "metadata": {},
   "source": [
    "## Top Spenders"
   ]
  },
  {
   "cell_type": "markdown",
   "metadata": {},
   "source": [
    "* Run basic calculations to obtain the results in the table below\n",
    "\n",
    "\n",
    "* Create a summary data frame to hold the results\n",
    "\n",
    "\n",
    "* Sort the total purchase value column in descending order\n",
    "\n",
    "\n",
    "* Optional: give the displayed data cleaner formatting\n",
    "\n",
    "\n",
    "* Display a preview of the summary data frame\n",
    "\n"
   ]
  },
  {
   "cell_type": "code",
   "execution_count": null,
   "metadata": {},
   "outputs": [],
   "source": []
  },
  {
   "cell_type": "markdown",
   "metadata": {},
   "source": [
    "## Most Popular Items"
   ]
  },
  {
   "cell_type": "markdown",
   "metadata": {},
   "source": [
    "* Retrieve the Item ID, Item Name, and Item Price columns\n",
    "\n",
    "\n",
    "* Group by Item ID and Item Name. Perform calculations to obtain purchase count, average item price, and total purchase value\n",
    "\n",
    "\n",
    "* Create a summary data frame to hold the results\n",
    "\n",
    "\n",
    "* Sort the purchase count column in descending order\n",
    "\n",
    "\n",
    "* Optional: give the displayed data cleaner formatting\n",
    "\n",
    "\n",
    "* Display a preview of the summary data frame\n",
    "\n"
   ]
  },
  {
   "cell_type": "code",
   "execution_count": null,
   "metadata": {},
   "outputs": [],
   "source": []
  },
  {
   "cell_type": "markdown",
   "metadata": {},
   "source": [
    "## Most Profitable Items"
   ]
  },
  {
   "cell_type": "markdown",
   "metadata": {},
   "source": [
    "* Sort the above table by total purchase value in descending order\n",
    "\n",
    "\n",
    "* Optional: give the displayed data cleaner formatting\n",
    "\n",
    "\n",
    "* Display a preview of the data frame\n",
    "\n"
   ]
  },
  {
   "cell_type": "code",
   "execution_count": null,
   "metadata": {
    "scrolled": true
   },
   "outputs": [],
   "source": []
  }
 ],
 "metadata": {
  "anaconda-cloud": {},
  "kernel_info": {
   "name": "python3"
  },
  "kernelspec": {
   "display_name": "Python 3 (ipykernel)",
   "language": "python",
   "name": "python3"
  },
  "language_info": {
   "codemirror_mode": {
    "name": "ipython",
    "version": 3
   },
   "file_extension": ".py",
   "mimetype": "text/x-python",
   "name": "python",
   "nbconvert_exporter": "python",
   "pygments_lexer": "ipython3",
   "version": "3.9.7"
  },
  "latex_envs": {
   "LaTeX_envs_menu_present": true,
   "autoclose": false,
   "autocomplete": true,
   "bibliofile": "biblio.bib",
   "cite_by": "apalike",
   "current_citInitial": 1,
   "eqLabelWithNumbers": true,
   "eqNumInitial": 1,
   "hotkeys": {
    "equation": "Ctrl-E",
    "itemize": "Ctrl-I"
   },
   "labels_anchors": false,
   "latex_user_defs": false,
   "report_style_numbering": false,
   "user_envs_cfg": false
  },
  "nteract": {
   "version": "0.2.0"
  }
 },
 "nbformat": 4,
 "nbformat_minor": 2
}
